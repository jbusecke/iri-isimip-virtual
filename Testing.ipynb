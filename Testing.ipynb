{
 "cells": [
  {
   "cell_type": "code",
   "execution_count": 1,
   "id": "c80fa4e3-4fbb-4f79-bd7e-8e4822e2cca6",
   "metadata": {},
   "outputs": [],
   "source": [
    "# Installs needed on top of the pangeo-notebook image"
   ]
  },
  {
   "cell_type": "code",
   "execution_count": 2,
   "id": "2ede5cf2-a993-450d-92d1-1300bdf6af56",
   "metadata": {},
   "outputs": [],
   "source": [
    "# # Follow installation instructions: https://virtualizarr.readthedocs.io/en/latest/installation.html#installation\n",
    "# !git clone https://github.com/TomNicholas/VirtualiZarr\n",
    "# !cd VirtualiZarr;pip install -e ."
   ]
  },
  {
   "cell_type": "markdown",
   "id": "6b56ae78-3f62-4f43-954b-f2fa9bc6e228",
   "metadata": {},
   "source": [
    "For now blocked by https://github.com/TomNicholas/VirtualiZarr/issues/121"
   ]
  },
  {
   "cell_type": "code",
   "execution_count": 3,
   "id": "fe9b41ec-cd06-418b-9b0f-4b9520648122",
   "metadata": {},
   "outputs": [],
   "source": [
    "import dask\n",
    "from dask.diagnostics import ProgressBar\n",
    "from tqdm.auto import tqdm\n",
    "from virtualizarr import open_virtual_dataset\n",
    "from virtualizarr.kerchunk import FileType\n",
    "import xarray as xr\n",
    "    \n",
    "files = [\n",
    "\n",
    "    'https://files.isimip.org/ISIMIP3b/InputData/climate/atmosphere/bias-adjusted/global/daily/historical/GFDL-ESM4/gfdl-esm4_r1i1p1f1_w5e5_historical_hurs_global_daily_1850_1850.nc',\n",
    "    'https://files.isimip.org/ISIMIP3b/InputData/climate/atmosphere/bias-adjusted/global/daily/historical/GFDL-ESM4/gfdl-esm4_r1i1p1f1_w5e5_historical_hurs_global_daily_1851_1860.nc',\n",
    "    'https://files.isimip.org/ISIMIP3b/InputData/climate/atmosphere/bias-adjusted/global/daily/historical/GFDL-ESM4/gfdl-esm4_r1i1p1f1_w5e5_historical_hurs_global_daily_1861_1870.nc',\n",
    "    'https://files.isimip.org/ISIMIP3b/InputData/climate/atmosphere/bias-adjusted/global/daily/historical/GFDL-ESM4/gfdl-esm4_r1i1p1f1_w5e5_historical_hurs_global_daily_1871_1880.nc',\n",
    "    'https://files.isimip.org/ISIMIP3b/InputData/climate/atmosphere/bias-adjusted/global/daily/historical/GFDL-ESM4/gfdl-esm4_r1i1p1f1_w5e5_historical_hurs_global_daily_1881_1890.nc',\n",
    "    'https://files.isimip.org/ISIMIP3b/InputData/climate/atmosphere/bias-adjusted/global/daily/historical/GFDL-ESM4/gfdl-esm4_r1i1p1f1_w5e5_historical_hurs_global_daily_1891_1900.nc',\n",
    "    'https://files.isimip.org/ISIMIP3b/InputData/climate/atmosphere/bias-adjusted/global/daily/historical/GFDL-ESM4/gfdl-esm4_r1i1p1f1_w5e5_historical_hurs_global_daily_1901_1910.nc',\n",
    "    # 'https://files.isimip.org/ISIMIP3b/InputData/climate/atmosphere/bias-adjusted/global/daily/historical/GFDL-ESM4/gfdl-esm4_r1i1p1f1_w5e5_historical_hurs_global_daily_1911_1920.nc',\n",
    "    # 'https://files.isimip.org/ISIMIP3b/InputData/climate/atmosphere/bias-adjusted/global/daily/historical/GFDL-ESM4/gfdl-esm4_r1i1p1f1_w5e5_historical_hurs_global_daily_1921_1930.nc',\n",
    "    # 'https://files.isimip.org/ISIMIP3b/InputData/climate/atmosphere/bias-adjusted/global/daily/historical/GFDL-ESM4/gfdl-esm4_r1i1p1f1_w5e5_historical_hurs_global_daily_1931_1940.nc',\n",
    "    # 'https://files.isimip.org/ISIMIP3b/InputData/climate/atmosphere/bias-adjusted/global/daily/historical/GFDL-ESM4/gfdl-esm4_r1i1p1f1_w5e5_historical_hurs_global_daily_1941_1950.nc',\n",
    "    # 'https://files.isimip.org/ISIMIP3b/InputData/climate/atmosphere/bias-adjusted/global/daily/historical/GFDL-ESM4/gfdl-esm4_r1i1p1f1_w5e5_historical_hurs_global_daily_1951_1960.nc',\n",
    "    # 'https://files.isimip.org/ISIMIP3b/InputData/climate/atmosphere/bias-adjusted/global/daily/historical/GFDL-ESM4/gfdl-esm4_r1i1p1f1_w5e5_historical_hurs_global_daily_1961_1970.nc',\n",
    "    # 'https://files.isimip.org/ISIMIP3b/InputData/climate/atmosphere/bias-adjusted/global/daily/historical/GFDL-ESM4/gfdl-esm4_r1i1p1f1_w5e5_historical_hurs_global_daily_1971_1980.nc',\n",
    "    # 'https://files.isimip.org/ISIMIP3b/InputData/climate/atmosphere/bias-adjusted/global/daily/historical/GFDL-ESM4/gfdl-esm4_r1i1p1f1_w5e5_historical_hurs_global_daily_1981_1990.nc',\n",
    "    # 'https://files.isimip.org/ISIMIP3b/InputData/climate/atmosphere/bias-adjusted/global/daily/historical/GFDL-ESM4/gfdl-esm4_r1i1p1f1_w5e5_historical_hurs_global_daily_1991_2000.nc',\n",
    "    # 'https://files.isimip.org/ISIMIP3b/InputData/climate/atmosphere/bias-adjusted/global/daily/historical/GFDL-ESM4/gfdl-esm4_r1i1p1f1_w5e5_historical_hurs_global_daily_2001_2010.nc',\n",
    "    # 'https://files.isimip.org/ISIMIP3b/InputData/climate/atmosphere/bias-adjusted/global/daily/historical/GFDL-ESM4/gfdl-esm4_r1i1p1f1_w5e5_historical_hurs_global_daily_2011_2014.nc',\n",
    "]"
   ]
  },
  {
   "cell_type": "code",
   "execution_count": 7,
   "id": "7a45d746-58e9-4cc2-9d5b-c4f6ecc0678d",
   "metadata": {},
   "outputs": [
    {
     "name": "stdout",
     "output_type": "stream",
     "text": [
      "[                                        ] | 0% Completed | 704.38 ms\n"
     ]
    },
    {
     "ename": "NotImplementedError",
     "evalue": "Only local and s3 file protocols are currently supported",
     "output_type": "error",
     "traceback": [
      "\u001b[0;31m---------------------------------------------------------------------------\u001b[0m",
      "\u001b[0;31mNotImplementedError\u001b[0m                       Traceback (most recent call last)",
      "Cell \u001b[0;32mIn[7], line 4\u001b[0m\n\u001b[1;32m      2\u001b[0m vds_lazy_list_local \u001b[38;5;241m=\u001b[39m [open_virtual_(f, indexes\u001b[38;5;241m=\u001b[39m{}) \u001b[38;5;28;01mfor\u001b[39;00m f \u001b[38;5;129;01min\u001b[39;00m files]\n\u001b[1;32m      3\u001b[0m \u001b[38;5;28;01mwith\u001b[39;00m ProgressBar():\n\u001b[0;32m----> 4\u001b[0m     vds_list_parallel_processes_local \u001b[38;5;241m=\u001b[39m \u001b[43mdask\u001b[49m\u001b[38;5;241;43m.\u001b[39;49m\u001b[43mcompute\u001b[49m\u001b[43m(\u001b[49m\u001b[43mvds_lazy_list_local\u001b[49m\u001b[43m,\u001b[49m\u001b[43m \u001b[49m\u001b[43mscheduler\u001b[49m\u001b[38;5;241;43m=\u001b[39;49m\u001b[38;5;124;43m'\u001b[39;49m\u001b[38;5;124;43mprocesses\u001b[39;49m\u001b[38;5;124;43m'\u001b[39;49m\u001b[43m)\u001b[49m\n",
      "File \u001b[0;32m/srv/conda/envs/notebook/lib/python3.11/site-packages/dask/base.py:661\u001b[0m, in \u001b[0;36mcompute\u001b[0;34m(traverse, optimize_graph, scheduler, get, *args, **kwargs)\u001b[0m\n\u001b[1;32m    658\u001b[0m     postcomputes\u001b[38;5;241m.\u001b[39mappend(x\u001b[38;5;241m.\u001b[39m__dask_postcompute__())\n\u001b[1;32m    660\u001b[0m \u001b[38;5;28;01mwith\u001b[39;00m shorten_traceback():\n\u001b[0;32m--> 661\u001b[0m     results \u001b[38;5;241m=\u001b[39m \u001b[43mschedule\u001b[49m\u001b[43m(\u001b[49m\u001b[43mdsk\u001b[49m\u001b[43m,\u001b[49m\u001b[43m \u001b[49m\u001b[43mkeys\u001b[49m\u001b[43m,\u001b[49m\u001b[43m \u001b[49m\u001b[38;5;241;43m*\u001b[39;49m\u001b[38;5;241;43m*\u001b[39;49m\u001b[43mkwargs\u001b[49m\u001b[43m)\u001b[49m\n\u001b[1;32m    663\u001b[0m \u001b[38;5;28;01mreturn\u001b[39;00m repack([f(r, \u001b[38;5;241m*\u001b[39ma) \u001b[38;5;28;01mfor\u001b[39;00m r, (f, a) \u001b[38;5;129;01min\u001b[39;00m \u001b[38;5;28mzip\u001b[39m(results, postcomputes)])\n",
      "File \u001b[0;32m~/TESTING/iri-isimip-virtual/VirtualiZarr/virtualizarr/xarray.py:108\u001b[0m, in \u001b[0;36mopen_virtual_dataset\u001b[0;34m()\u001b[0m\n\u001b[1;32m    102\u001b[0m     \u001b[38;5;28;01mreturn\u001b[39;00m open_virtual_dataset_from_v3_store(\n\u001b[1;32m    103\u001b[0m         storepath\u001b[38;5;241m=\u001b[39mfilepath, drop_variables\u001b[38;5;241m=\u001b[39mdrop_variables, indexes\u001b[38;5;241m=\u001b[39mindexes\n\u001b[1;32m    104\u001b[0m     )\n\u001b[1;32m    105\u001b[0m \u001b[38;5;28;01melse\u001b[39;00m:\n\u001b[1;32m    106\u001b[0m     \u001b[38;5;66;03m# this is the only place we actually always need to use kerchunk directly\u001b[39;00m\n\u001b[1;32m    107\u001b[0m     \u001b[38;5;66;03m# TODO avoid even reading byte ranges for variables that will be dropped later anyway?\u001b[39;00m\n\u001b[0;32m--> 108\u001b[0m     vds_refs \u001b[38;5;241m=\u001b[39m kerchunk\u001b[38;5;241m.\u001b[39mread_kerchunk_references_from_file(\n\u001b[1;32m    109\u001b[0m         filepath\u001b[38;5;241m=\u001b[39mfilepath,\n\u001b[1;32m    110\u001b[0m         filetype\u001b[38;5;241m=\u001b[39mfiletype,\n\u001b[1;32m    111\u001b[0m     )\n\u001b[1;32m    112\u001b[0m     virtual_vars \u001b[38;5;241m=\u001b[39m virtual_vars_from_kerchunk_refs(\n\u001b[1;32m    113\u001b[0m         vds_refs,\n\u001b[1;32m    114\u001b[0m         drop_variables\u001b[38;5;241m=\u001b[39mdrop_variables \u001b[38;5;241m+\u001b[39m loadable_variables,\n\u001b[1;32m    115\u001b[0m         virtual_array_class\u001b[38;5;241m=\u001b[39mvirtual_array_class,\n\u001b[1;32m    116\u001b[0m     )\n\u001b[1;32m    117\u001b[0m     ds_attrs \u001b[38;5;241m=\u001b[39m kerchunk\u001b[38;5;241m.\u001b[39mfully_decode_arr_refs(vds_refs[\u001b[38;5;124m\"\u001b[39m\u001b[38;5;124mrefs\u001b[39m\u001b[38;5;124m\"\u001b[39m])\u001b[38;5;241m.\u001b[39mget(\u001b[38;5;124m\"\u001b[39m\u001b[38;5;124m.zattrs\u001b[39m\u001b[38;5;124m\"\u001b[39m, {})\n",
      "File \u001b[0;32m~/TESTING/iri-isimip-virtual/VirtualiZarr/virtualizarr/kerchunk.py:76\u001b[0m, in \u001b[0;36mread_kerchunk_references_from_file\u001b[0;34m()\u001b[0m\n\u001b[1;32m     60\u001b[0m \u001b[38;5;250m\u001b[39m\u001b[38;5;124;03m\"\"\"\u001b[39;00m\n\u001b[1;32m     61\u001b[0m \u001b[38;5;124;03mRead a single legacy file and return kerchunk references to its contents.\u001b[39;00m\n\u001b[1;32m     62\u001b[0m \n\u001b[0;32m   (...)\u001b[0m\n\u001b[1;32m     72\u001b[0m \u001b[38;5;124;03m    so ensure reader_options match selected Kerchunk reader arguments.\u001b[39;00m\n\u001b[1;32m     73\u001b[0m \u001b[38;5;124;03m\"\"\"\u001b[39;00m\n\u001b[1;32m     75\u001b[0m \u001b[38;5;28;01mif\u001b[39;00m filetype \u001b[38;5;129;01mis\u001b[39;00m \u001b[38;5;28;01mNone\u001b[39;00m:\n\u001b[0;32m---> 76\u001b[0m     filetype \u001b[38;5;241m=\u001b[39m _automatically_determine_filetype(\n\u001b[1;32m     77\u001b[0m         filepath\u001b[38;5;241m=\u001b[39mfilepath, reader_options\u001b[38;5;241m=\u001b[39mreader_options\n\u001b[1;32m     78\u001b[0m     )\n\u001b[1;32m     80\u001b[0m \u001b[38;5;66;03m# if filetype is user defined, convert to FileType\u001b[39;00m\n\u001b[1;32m     81\u001b[0m filetype \u001b[38;5;241m=\u001b[39m FileType(filetype)\n",
      "File \u001b[0;32m~/TESTING/iri-isimip-virtual/VirtualiZarr/virtualizarr/kerchunk.py:117\u001b[0m, in \u001b[0;36m_automatically_determine_filetype\u001b[0;34m()\u001b[0m\n\u001b[1;32m    113\u001b[0m \u001b[38;5;28;01mdef\u001b[39;00m \u001b[38;5;21m_automatically_determine_filetype\u001b[39m(\n\u001b[1;32m    114\u001b[0m     \u001b[38;5;241m*\u001b[39m, filepath: \u001b[38;5;28mstr\u001b[39m, reader_options: Optional[\u001b[38;5;28mdict\u001b[39m] \u001b[38;5;241m=\u001b[39m {}\n\u001b[1;32m    115\u001b[0m ) \u001b[38;5;241m-\u001b[39m\u001b[38;5;241m>\u001b[39m FileType:\n\u001b[1;32m    116\u001b[0m     file_extension \u001b[38;5;241m=\u001b[39m Path(filepath)\u001b[38;5;241m.\u001b[39msuffix\n\u001b[0;32m--> 117\u001b[0m     fpath \u001b[38;5;241m=\u001b[39m _fsspec_openfile_from_filepath(\n\u001b[1;32m    118\u001b[0m         filepath\u001b[38;5;241m=\u001b[39mfilepath, reader_options\u001b[38;5;241m=\u001b[39mreader_options\n\u001b[1;32m    119\u001b[0m     )\n\u001b[1;32m    121\u001b[0m     \u001b[38;5;28;01mif\u001b[39;00m file_extension \u001b[38;5;241m==\u001b[39m \u001b[38;5;124m\"\u001b[39m\u001b[38;5;124m.nc\u001b[39m\u001b[38;5;124m\"\u001b[39m:\n\u001b[1;32m    122\u001b[0m         \u001b[38;5;66;03m# based off of: https://github.com/TomNicholas/VirtualiZarr/pull/43#discussion_r1543415167\u001b[39;00m\n\u001b[1;32m    123\u001b[0m         magic \u001b[38;5;241m=\u001b[39m fpath\u001b[38;5;241m.\u001b[39mread()\n",
      "File \u001b[0;32m~/TESTING/iri-isimip-virtual/VirtualiZarr/virtualizarr/utils.py:60\u001b[0m, in \u001b[0;36m_fsspec_openfile_from_filepath\u001b[0;34m()\u001b[0m\n\u001b[1;32m     57\u001b[0m     fpath \u001b[38;5;241m=\u001b[39m fsspec\u001b[38;5;241m.\u001b[39mfilesystem(protocol, \u001b[38;5;241m*\u001b[39m\u001b[38;5;241m*\u001b[39mstorage_options)\u001b[38;5;241m.\u001b[39mopen(filepath)\n\u001b[1;32m     59\u001b[0m \u001b[38;5;28;01melse\u001b[39;00m:\n\u001b[0;32m---> 60\u001b[0m     \u001b[38;5;28;01mraise\u001b[39;00m \u001b[38;5;167;01mNotImplementedError\u001b[39;00m(\n\u001b[1;32m     61\u001b[0m         \u001b[38;5;124m\"\u001b[39m\u001b[38;5;124mOnly local and s3 file protocols are currently supported\u001b[39m\u001b[38;5;124m\"\u001b[39m\n\u001b[1;32m     62\u001b[0m     )\n\u001b[1;32m     64\u001b[0m \u001b[38;5;28;01mreturn\u001b[39;00m fpath\n",
      "\u001b[0;31mNotImplementedError\u001b[0m: Only local and s3 file protocols are currently supported"
     ]
    }
   ],
   "source": [
    "open_virtual_ = dask.delayed(open_virtual_dataset)\n",
    "vds_lazy_list_local = [open_virtual_(f, indexes={}) for f in files]\n",
    "with ProgressBar():\n",
    "    vds_list_parallel_processes_local = dask.compute(vds_lazy_list_local, scheduler='processes')"
   ]
  },
  {
   "cell_type": "code",
   "execution_count": 14,
   "id": "5b0deae2-f271-4f60-a5d5-2a4bdbbedcea",
   "metadata": {},
   "outputs": [
    {
     "ename": "NotImplementedError",
     "evalue": "Only local and s3 file protocols are currently supported",
     "output_type": "error",
     "traceback": [
      "\u001b[0;31m---------------------------------------------------------------------------\u001b[0m",
      "\u001b[0;31mNotImplementedError\u001b[0m                       Traceback (most recent call last)",
      "Cell \u001b[0;32mIn[14], line 4\u001b[0m\n\u001b[1;32m      2\u001b[0m \u001b[38;5;28;01mimport\u001b[39;00m \u001b[38;5;21;01mfsspec\u001b[39;00m\n\u001b[1;32m      3\u001b[0m url \u001b[38;5;241m=\u001b[39m \u001b[38;5;124m'\u001b[39m\u001b[38;5;124mhttps://files.isimip.org/ISIMIP3b/InputData/climate/atmosphere/bias-adjusted/global/daily/historical/GFDL-ESM4/gfdl-esm4_r1i1p1f1_w5e5_historical_hurs_global_daily_1850_1850.nc\u001b[39m\u001b[38;5;124m'\u001b[39m\n\u001b[0;32m----> 4\u001b[0m vds \u001b[38;5;241m=\u001b[39m \u001b[43mopen_virtual_dataset\u001b[49m\u001b[43m(\u001b[49m\u001b[43murl\u001b[49m\u001b[43m)\u001b[49m\n",
      "File \u001b[0;32m~/TESTING/iri-isimip-virtual/VirtualiZarr/virtualizarr/xarray.py:108\u001b[0m, in \u001b[0;36mopen_virtual_dataset\u001b[0;34m(filepath, filetype, drop_variables, loadable_variables, indexes, virtual_array_class, reader_options)\u001b[0m\n\u001b[1;32m    102\u001b[0m     \u001b[38;5;28;01mreturn\u001b[39;00m open_virtual_dataset_from_v3_store(\n\u001b[1;32m    103\u001b[0m         storepath\u001b[38;5;241m=\u001b[39mfilepath, drop_variables\u001b[38;5;241m=\u001b[39mdrop_variables, indexes\u001b[38;5;241m=\u001b[39mindexes\n\u001b[1;32m    104\u001b[0m     )\n\u001b[1;32m    105\u001b[0m \u001b[38;5;28;01melse\u001b[39;00m:\n\u001b[1;32m    106\u001b[0m     \u001b[38;5;66;03m# this is the only place we actually always need to use kerchunk directly\u001b[39;00m\n\u001b[1;32m    107\u001b[0m     \u001b[38;5;66;03m# TODO avoid even reading byte ranges for variables that will be dropped later anyway?\u001b[39;00m\n\u001b[0;32m--> 108\u001b[0m     vds_refs \u001b[38;5;241m=\u001b[39m \u001b[43mkerchunk\u001b[49m\u001b[38;5;241;43m.\u001b[39;49m\u001b[43mread_kerchunk_references_from_file\u001b[49m\u001b[43m(\u001b[49m\n\u001b[1;32m    109\u001b[0m \u001b[43m        \u001b[49m\u001b[43mfilepath\u001b[49m\u001b[38;5;241;43m=\u001b[39;49m\u001b[43mfilepath\u001b[49m\u001b[43m,\u001b[49m\n\u001b[1;32m    110\u001b[0m \u001b[43m        \u001b[49m\u001b[43mfiletype\u001b[49m\u001b[38;5;241;43m=\u001b[39;49m\u001b[43mfiletype\u001b[49m\u001b[43m,\u001b[49m\n\u001b[1;32m    111\u001b[0m \u001b[43m    \u001b[49m\u001b[43m)\u001b[49m\n\u001b[1;32m    112\u001b[0m     virtual_vars \u001b[38;5;241m=\u001b[39m virtual_vars_from_kerchunk_refs(\n\u001b[1;32m    113\u001b[0m         vds_refs,\n\u001b[1;32m    114\u001b[0m         drop_variables\u001b[38;5;241m=\u001b[39mdrop_variables \u001b[38;5;241m+\u001b[39m loadable_variables,\n\u001b[1;32m    115\u001b[0m         virtual_array_class\u001b[38;5;241m=\u001b[39mvirtual_array_class,\n\u001b[1;32m    116\u001b[0m     )\n\u001b[1;32m    117\u001b[0m     ds_attrs \u001b[38;5;241m=\u001b[39m kerchunk\u001b[38;5;241m.\u001b[39mfully_decode_arr_refs(vds_refs[\u001b[38;5;124m\"\u001b[39m\u001b[38;5;124mrefs\u001b[39m\u001b[38;5;124m\"\u001b[39m])\u001b[38;5;241m.\u001b[39mget(\u001b[38;5;124m\"\u001b[39m\u001b[38;5;124m.zattrs\u001b[39m\u001b[38;5;124m\"\u001b[39m, {})\n",
      "File \u001b[0;32m~/TESTING/iri-isimip-virtual/VirtualiZarr/virtualizarr/kerchunk.py:76\u001b[0m, in \u001b[0;36mread_kerchunk_references_from_file\u001b[0;34m(filepath, filetype, reader_options)\u001b[0m\n\u001b[1;32m     60\u001b[0m \u001b[38;5;250m\u001b[39m\u001b[38;5;124;03m\"\"\"\u001b[39;00m\n\u001b[1;32m     61\u001b[0m \u001b[38;5;124;03mRead a single legacy file and return kerchunk references to its contents.\u001b[39;00m\n\u001b[1;32m     62\u001b[0m \n\u001b[0;32m   (...)\u001b[0m\n\u001b[1;32m     72\u001b[0m \u001b[38;5;124;03m    so ensure reader_options match selected Kerchunk reader arguments.\u001b[39;00m\n\u001b[1;32m     73\u001b[0m \u001b[38;5;124;03m\"\"\"\u001b[39;00m\n\u001b[1;32m     75\u001b[0m \u001b[38;5;28;01mif\u001b[39;00m filetype \u001b[38;5;129;01mis\u001b[39;00m \u001b[38;5;28;01mNone\u001b[39;00m:\n\u001b[0;32m---> 76\u001b[0m     filetype \u001b[38;5;241m=\u001b[39m \u001b[43m_automatically_determine_filetype\u001b[49m\u001b[43m(\u001b[49m\n\u001b[1;32m     77\u001b[0m \u001b[43m        \u001b[49m\u001b[43mfilepath\u001b[49m\u001b[38;5;241;43m=\u001b[39;49m\u001b[43mfilepath\u001b[49m\u001b[43m,\u001b[49m\u001b[43m \u001b[49m\u001b[43mreader_options\u001b[49m\u001b[38;5;241;43m=\u001b[39;49m\u001b[43mreader_options\u001b[49m\n\u001b[1;32m     78\u001b[0m \u001b[43m    \u001b[49m\u001b[43m)\u001b[49m\n\u001b[1;32m     80\u001b[0m \u001b[38;5;66;03m# if filetype is user defined, convert to FileType\u001b[39;00m\n\u001b[1;32m     81\u001b[0m filetype \u001b[38;5;241m=\u001b[39m FileType(filetype)\n",
      "File \u001b[0;32m~/TESTING/iri-isimip-virtual/VirtualiZarr/virtualizarr/kerchunk.py:117\u001b[0m, in \u001b[0;36m_automatically_determine_filetype\u001b[0;34m(filepath, reader_options)\u001b[0m\n\u001b[1;32m    113\u001b[0m \u001b[38;5;28;01mdef\u001b[39;00m \u001b[38;5;21m_automatically_determine_filetype\u001b[39m(\n\u001b[1;32m    114\u001b[0m     \u001b[38;5;241m*\u001b[39m, filepath: \u001b[38;5;28mstr\u001b[39m, reader_options: Optional[\u001b[38;5;28mdict\u001b[39m] \u001b[38;5;241m=\u001b[39m {}\n\u001b[1;32m    115\u001b[0m ) \u001b[38;5;241m-\u001b[39m\u001b[38;5;241m>\u001b[39m FileType:\n\u001b[1;32m    116\u001b[0m     file_extension \u001b[38;5;241m=\u001b[39m Path(filepath)\u001b[38;5;241m.\u001b[39msuffix\n\u001b[0;32m--> 117\u001b[0m     fpath \u001b[38;5;241m=\u001b[39m \u001b[43m_fsspec_openfile_from_filepath\u001b[49m\u001b[43m(\u001b[49m\n\u001b[1;32m    118\u001b[0m \u001b[43m        \u001b[49m\u001b[43mfilepath\u001b[49m\u001b[38;5;241;43m=\u001b[39;49m\u001b[43mfilepath\u001b[49m\u001b[43m,\u001b[49m\u001b[43m \u001b[49m\u001b[43mreader_options\u001b[49m\u001b[38;5;241;43m=\u001b[39;49m\u001b[43mreader_options\u001b[49m\n\u001b[1;32m    119\u001b[0m \u001b[43m    \u001b[49m\u001b[43m)\u001b[49m\n\u001b[1;32m    121\u001b[0m     \u001b[38;5;28;01mif\u001b[39;00m file_extension \u001b[38;5;241m==\u001b[39m \u001b[38;5;124m\"\u001b[39m\u001b[38;5;124m.nc\u001b[39m\u001b[38;5;124m\"\u001b[39m:\n\u001b[1;32m    122\u001b[0m         \u001b[38;5;66;03m# based off of: https://github.com/TomNicholas/VirtualiZarr/pull/43#discussion_r1543415167\u001b[39;00m\n\u001b[1;32m    123\u001b[0m         magic \u001b[38;5;241m=\u001b[39m fpath\u001b[38;5;241m.\u001b[39mread()\n",
      "File \u001b[0;32m~/TESTING/iri-isimip-virtual/VirtualiZarr/virtualizarr/utils.py:60\u001b[0m, in \u001b[0;36m_fsspec_openfile_from_filepath\u001b[0;34m(filepath, reader_options)\u001b[0m\n\u001b[1;32m     57\u001b[0m     fpath \u001b[38;5;241m=\u001b[39m fsspec\u001b[38;5;241m.\u001b[39mfilesystem(protocol, \u001b[38;5;241m*\u001b[39m\u001b[38;5;241m*\u001b[39mstorage_options)\u001b[38;5;241m.\u001b[39mopen(filepath)\n\u001b[1;32m     59\u001b[0m \u001b[38;5;28;01melse\u001b[39;00m:\n\u001b[0;32m---> 60\u001b[0m     \u001b[38;5;28;01mraise\u001b[39;00m \u001b[38;5;167;01mNotImplementedError\u001b[39;00m(\n\u001b[1;32m     61\u001b[0m         \u001b[38;5;124m\"\u001b[39m\u001b[38;5;124mOnly local and s3 file protocols are currently supported\u001b[39m\u001b[38;5;124m\"\u001b[39m\n\u001b[1;32m     62\u001b[0m     )\n\u001b[1;32m     64\u001b[0m \u001b[38;5;28;01mreturn\u001b[39;00m fpath\n",
      "\u001b[0;31mNotImplementedError\u001b[0m: Only local and s3 file protocols are currently supported"
     ]
    }
   ],
   "source": [
    "# MRE for issue\n",
    "import fsspec\n",
    "url = 'https://files.isimip.org/ISIMIP3b/InputData/climate/atmosphere/bias-adjusted/global/daily/historical/GFDL-ESM4/gfdl-esm4_r1i1p1f1_w5e5_historical_hurs_global_daily_1850_1850.nc'\n",
    "vds = open_virtual_dataset(url)"
   ]
  },
  {
   "cell_type": "code",
   "execution_count": null,
   "id": "11e8c4de-6090-42a6-8762-499634a59f3c",
   "metadata": {},
   "outputs": [],
   "source": []
  }
 ],
 "metadata": {
  "kernelspec": {
   "display_name": "Python 3 (ipykernel)",
   "language": "python",
   "name": "python3"
  },
  "language_info": {
   "codemirror_mode": {
    "name": "ipython",
    "version": 3
   },
   "file_extension": ".py",
   "mimetype": "text/x-python",
   "name": "python",
   "nbconvert_exporter": "python",
   "pygments_lexer": "ipython3",
   "version": "3.11.8"
  }
 },
 "nbformat": 4,
 "nbformat_minor": 5
}
